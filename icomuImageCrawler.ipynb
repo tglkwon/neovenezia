{
 "cells": [
  {
   "cell_type": "code",
   "execution_count": 15,
   "metadata": {},
   "outputs": [
    {
     "name": "stdout",
     "output_type": "stream",
     "text": [
      "<module 'json' from 'C:\\\\Users\\\\dgwon\\\\Anaconda3\\\\lib\\\\json\\\\__init__.py'>\n"
     ]
    }
   ],
   "source": [
    "from bs4 import BeautifulSoup\n",
    "import urllib.request\n",
    "import urllib.parse\n",
    "import re\n",
    "\n",
    "data = []\n",
    "\n",
    "web_url = \"https://www.idolmaster.co.kr/bbs/board.php?bo_table=free\"\n",
    "with urllib.request.urlopen(web_url) as response:\n",
    "    html = response.read()\n",
    "    soup = BeautifulSoup(html, 'html.parser')\n",
    "\n",
    "soupTbody = soup.find(\"tbody\")\n",
    "soupTr = soupTbody.find_all(\"tr\")\n",
    "\n",
    "lastIndex = 248142\n",
    "indexNums = []\n",
    "for item in soupTr:\n",
    "    index = re.search('wr_id=([0-9]+)', str(item))\n",
    "    indexNum = int(index.group(1))\n",
    "    if indexNum > lastIndex:\n",
    "        indexNums.append(indexNum)\n",
    "        \n",
    "\n",
    "for item in indexNums:\n",
    "    web_url = \"https://www.idolmaster.co.kr/bbs/board.php?bo_table=free&wr_id=\"+str(item)\n",
    "    with urllib.request.urlopen(web_url) as response:\n",
    "        html = response.read()\n",
    "        soup = BeautifulSoup(html, 'html.parser')\n",
    "        \n",
    "    soupContent = soup.find(\"article\", class_=\"content\")\n",
    "    imageTags = re.findall(\"<img.*?>\", str(soupContent))\n",
    "    \n",
    "    srcs = []\n",
    "    for tag in imageTags:\n",
    "        src = re.search('src=\"([^\"]*)\"', tag)\n",
    "        srcString = str(src.group(1))\n",
    "        srcs.append(srcString)\n",
    "    \n",
    "    data.append({\"index\":item,\"src\":srcs})\n",
    "    \n",
    "import json\n",
    "jsonData = json.dumps(data)\n",
    "print(json)\n",
    "\n",
    "with open('crawlerData.txt', 'w') as f:\n",
    "    json.dump(jsonData, f, ensure_ascii=False)\n",
    "    \n",
    "    \n",
    "    \n",
    "\n",
    "#print(indexNums)  \n",
    "  \n",
    "#index = soup.find(\"tbody\")\n",
    "    \n",
    "#print(soupTr[0])"
   ]
  },
  {
   "cell_type": "code",
   "execution_count": null,
   "metadata": {},
   "outputs": [],
   "source": []
  }
 ],
 "metadata": {
  "kernelspec": {
   "display_name": "Python 3",
   "language": "python",
   "name": "python3"
  },
  "language_info": {
   "codemirror_mode": {
    "name": "ipython",
    "version": 3
   },
   "file_extension": ".py",
   "mimetype": "text/x-python",
   "name": "python",
   "nbconvert_exporter": "python",
   "pygments_lexer": "ipython3",
   "version": "3.7.0"
  }
 },
 "nbformat": 4,
 "nbformat_minor": 2
}
