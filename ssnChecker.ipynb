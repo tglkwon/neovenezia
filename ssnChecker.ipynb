{
 "cells": [
  {
   "cell_type": "code",
   "execution_count": 29,
   "metadata": {
    "scrolled": false
   },
   "outputs": [
    {
     "name": "stdout",
     "output_type": "stream",
     "text": [
      "Sample0(Wrong)\t\t: 21011 - 1234567\n",
      "Sample1(Wrong)\t\t: 911111 - 111111\n",
      "Sample2(Wrong)\t\t: 910125-1289204\n",
      "Sample3(Wrong)\t\t: 911325 - 2229803\n",
      "Sample4(Wrong)\t\t: 911232 - 2325804\n",
      "Sample5(Wrong)\t\t: 971130 - 3325808\n",
      "Sample6(Wrong)\t\t: 910221 - 1239531\n",
      "Sample7(Wrong)\t\t: 910229 - 1239539\n",
      "Sample8(Wrong)\t\t: 170101 - 1365983\n",
      "Sample9(Wrong)\t\t: 180101 - 3365986\n",
      "Sample10(Correct) \t: ****** - *******\n",
      "Sample11(Correct)\t: ab****** - *******bc\n",
      "Sample12(Correct)\t: 112****** - *******234\n",
      "Sample13(Correct)\t: ****** - *******\n",
      "Sample14(Correct)\t: ****** - *******\n",
      "Sample15(Correct)\t: ****** - *******\n",
      "Sample16(Correct)\t: ****** - *******\n",
      "Sample17(Correct)\t: ****** - *******\n",
      "Sample18(Correct)\t: aaac123****** - *******00abcvk1\n",
      "Sample19(Correct)\t: ****** - *******\n",
      "\n",
      "\n",
      "\n",
      "\n"
     ]
    }
   ],
   "source": [
    "#주민등록번호 검색\n",
    "import re\n",
    "import datetime\n",
    "\n",
    "#def check\n",
    "data = \"\"\n",
    "with open('input.txt', \"r\") as f:\n",
    "    data = f.read()\n",
    "\n",
    "#print(data)\n",
    "dataLicense = re.findall('([0-9]{6} - [0-9]{7})', data)\n",
    "#print(dataLicense)\n",
    "ssn = []\n",
    "\n",
    "for nums in dataLicense:\n",
    "    year = int(nums[0:2])\n",
    "    if year > 17:\n",
    "        year = year+1900\n",
    "    else:\n",
    "        year += 2000\n",
    "    month = int(nums[2:4])\n",
    "    day = int(nums[4:6])\n",
    "    sex = int(nums[9])\n",
    "    try :\n",
    "        datetime.datetime(year,month,day)\n",
    "    except ValueError :\n",
    "        continue\n",
    "    \n",
    "    if year < 2000:\n",
    "        if not (sex == 1 or sex == 2):\n",
    "            continue\n",
    "    else:\n",
    "        if not (sex == 3 or sex == 4):\n",
    "            continue\n",
    "\n",
    "    \n",
    "    #print(nums)\n",
    "    remainder = (int(nums[0])*2+int(nums[1])*3+int(nums[2])*4+int(nums[3])*5+int(nums[4])*6+int(nums[5])*7+int(nums[9])*8+int(nums[10])*9+int(nums[11])*2+int(nums[12])*3+int(nums[13])*4+int(nums[14])*5)%11    \n",
    "    checksum = (11 - remainder)%10\n",
    "    if not checksum == int(nums[15]):\n",
    "        continue\n",
    "    #print(nums)\n",
    "    ssn.append(nums)\n",
    "\n",
    "#print(ssn)\n",
    "for n in ssn:\n",
    "    data = data.replace(n, \"****** - *******\")\n",
    "    \n",
    "print(data)"
   ]
  },
  {
   "cell_type": "code",
   "execution_count": null,
   "metadata": {},
   "outputs": [],
   "source": []
  }
 ],
 "metadata": {
  "kernelspec": {
   "display_name": "Python 3",
   "language": "python",
   "name": "python3"
  },
  "language_info": {
   "codemirror_mode": {
    "name": "ipython",
    "version": 3
   },
   "file_extension": ".py",
   "mimetype": "text/x-python",
   "name": "python",
   "nbconvert_exporter": "python",
   "pygments_lexer": "ipython3",
   "version": "3.7.0"
  }
 },
 "nbformat": 4,
 "nbformat_minor": 2
}
