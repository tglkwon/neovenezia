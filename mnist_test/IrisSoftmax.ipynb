{
 "cells": [
  {
   "cell_type": "code",
   "execution_count": 121,
   "metadata": {},
   "outputs": [
    {
     "name": "stdout",
     "output_type": "stream",
     "text": [
      "accuracy  0.96666664\n"
     ]
    },
    {
     "data": {
      "text/plain": [
       "'/Users/tglkwon/neovenezia/IrisData/IrisSoftmax.ckpt'"
      ]
     },
     "execution_count": 121,
     "metadata": {},
     "output_type": "execute_result"
    }
   ],
   "source": [
    "from __future__ import absolute_import\n",
    "from __future__ import division\n",
    "from __future__ import print_function\n",
    "\n",
    "import tensorflow as tf\n",
    "import numpy as np\n",
    "\n",
    "with open('/Users/tglkwon/neovenezia/IrisData/iris_test.csv', 'r') as f:\n",
    "    IrisTest = f.read()\n",
    "    \n",
    "with open('/Users/tglkwon/neovenezia/IrisData/iris_training.csv', 'r') as f:\n",
    "    IrisTrain = f.read()\n",
    "    \n",
    "IrisTest = IrisTest.split('\\n')[1:-1]\n",
    "IrisTrain = IrisTrain.split('\\n')[1:-1]\n",
    "\n",
    "\n",
    "testx = []\n",
    "testy = []\n",
    "for test in IrisTest:\n",
    "    testarg = test.split(',')\n",
    "    testarg = [float(i) for i in testarg]\n",
    "    testx.append(testarg[0:-1])\n",
    "    if int(testarg[-1]) == 0:\n",
    "        testy.append([1, 0, 0])\n",
    "    elif int(testarg[-1]) == 1:\n",
    "        testy.append([0, 1, 0])\n",
    "    elif int(testarg[-1]) == 2:\n",
    "        testy.append([0, 0, 1])\n",
    "    \n",
    "testx = np.asarray(testx)\n",
    "testy = np.asarray(testy)\n",
    "\n",
    "    \n",
    "trainx = []\n",
    "trainy = []\n",
    "for train in IrisTrain:\n",
    "    trainarg = train.split(',')\n",
    "    trainarg = [float(i) for i in trainarg]\n",
    "    trainx.append(trainarg[0:-1])\n",
    "    if int(trainarg[-1]) == 0:\n",
    "        trainy.append([1, 0, 0])\n",
    "    elif int(trainarg[-1]) == 1:\n",
    "        trainy.append([0, 1, 0])\n",
    "    elif int(trainarg[-1]) == 2:\n",
    "        trainy.append([0, 0, 1])\n",
    "    \n",
    "trainx = np.asarray(trainx)\n",
    "trainy = np.asarray(trainy)\n",
    "\n",
    "x = tf.placeholder(tf.float32, [None, 4])\n",
    "W = tf.Variable(tf.zeros([4,3]))\n",
    "b = tf.Variable(tf.zeros([3]))\n",
    "\n",
    "k = tf.matmul(x,W)+b\n",
    "\n",
    "y = tf.nn.softmax(k)\n",
    "\n",
    "y_ = tf.placeholder(tf.float32, [None, 3])\n",
    "cost = tf.reduce_mean(tf.nn.softmax_cross_entropy_with_logits(logits=k, labels=y_))\n",
    "\n",
    "learning_rate = 0.5\n",
    "train_step = tf.train.AdamOptimizer(learning_rate).minimize(cost)\n",
    "\n",
    "sess = tf.Session()\n",
    "ini = tf.global_variables_initializer()\n",
    "sess.run(ini)\n",
    "\n",
    "for _ in range(60):\n",
    "    sess.run(train_step, feed_dict={x: trainx, y_: trainy})\n",
    "\n",
    "correct_prediction = tf.equal(tf.argmax(y, 1), tf.argmax(y_, 1))\n",
    "accuracy = tf.reduce_mean(tf.cast(correct_prediction, tf.float32))\n",
    "\n",
    "print('accuracy ',sess.run(accuracy, feed_dict={x: testx, y_: testy}))\n",
    "\n",
    "saver = tf.train.Saver()\n",
    "saver.save(sess, '/Users/tglkwon/neovenezia/IrisData/IrisSoftmax.ckpt')\n"
   ]
  },
  {
   "cell_type": "code",
   "execution_count": 123,
   "metadata": {},
   "outputs": [
    {
     "name": "stdout",
     "output_type": "stream",
     "text": [
      "[[9.7687405e-01 2.3124956e-02 1.0469628e-06]]\n",
      "[5.9 3.  4.2 1.5] [0 1 0]\n"
     ]
    }
   ],
   "source": [
    "import numpy\n",
    "\n",
    "x_test = numpy.asarray([[5.1,3.3,1.7,0.5]])\n",
    "print(sess.run(y, feed_dict={x: x_test}))\n",
    "print(testx[0], testy[0])"
   ]
  },
  {
   "cell_type": "code",
   "execution_count": null,
   "metadata": {},
   "outputs": [],
   "source": []
  }
 ],
 "metadata": {
  "kernelspec": {
   "display_name": "Python 3",
   "language": "python",
   "name": "python3"
  },
  "language_info": {
   "codemirror_mode": {
    "name": "ipython",
    "version": 3
   },
   "file_extension": ".py",
   "mimetype": "text/x-python",
   "name": "python",
   "nbconvert_exporter": "python",
   "pygments_lexer": "ipython3",
   "version": "3.6.6"
  }
 },
 "nbformat": 4,
 "nbformat_minor": 2
}
