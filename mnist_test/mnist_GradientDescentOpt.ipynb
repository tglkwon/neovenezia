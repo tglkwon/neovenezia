{
 "cells": [
  {
   "cell_type": "code",
   "execution_count": 49,
   "metadata": {},
   "outputs": [
    {
     "name": "stdout",
     "output_type": "stream",
     "text": [
      "Extracting MNIST_data/train-images-idx3-ubyte.gz\n",
      "Extracting MNIST_data/train-labels-idx1-ubyte.gz\n",
      "Extracting MNIST_data/t10k-images-idx3-ubyte.gz\n",
      "Extracting MNIST_data/t10k-labels-idx1-ubyte.gz\n"
     ]
    },
    {
     "data": {
      "text/plain": [
       "0.92016363"
      ]
     },
     "execution_count": 49,
     "metadata": {},
     "output_type": "execute_result"
    }
   ],
   "source": [
    "import tensorflow as tf\n",
    "from tensorflow.examples.tutorials.mnist import input_data\n",
    "mnist = input_data.read_data_sets(\"MNIST_data/\", one_hot=True)\n",
    "\n",
    "x = tf.placeholder(dtype=tf.float32, shape=[None,784])\n",
    "W = tf.Variable(tf.zeros([784,10]))\n",
    "b = tf.Variable(tf.zeros([10]))\n",
    "k = tf.matmul(x,W)+b \n",
    "\n",
    "y = tf.nn.softmax(k)\n",
    "\n",
    "y_ = tf.placeholder(dtype=tf.float32, shape=[None,10])\n",
    "cost = tf.reduce_mean(tf.nn.softmax_cross_entropy_with_logits_v2(labels=y_, logits=k))\n",
    "\n",
    "trainG = tf.train.GradientDescentOptimizer(0.5).minimize(cost)\n",
    "\n",
    "\n",
    "sess = tf.Session()\n",
    "ini = tf.initialize_all_variables()\n",
    "sess.run(ini)\n",
    "for i in range(1,1000):\n",
    "    batch_xs, batch_ys = mnist.train.next_batch(500)\n",
    "    sess.run(trainG, feed_dict={x: batch_xs, y_: batch_ys})\n",
    "    \n",
    "\n",
    "ac = tf.reduce_mean(tf.cast(tf.equal(tf.argmax(y,1),tf.argmax(y_,1)), dtype=tf.float32))\n",
    "sess.run(ac, feed_dict={x: mnist.train.images, y_: mnist.train.labels})\n"
   ]
  },
  {
   "cell_type": "code",
   "execution_count": null,
   "metadata": {},
   "outputs": [],
   "source": []
  }
 ],
 "metadata": {
  "kernelspec": {
   "display_name": "Python 3",
   "language": "python",
   "name": "python3"
  },
  "language_info": {
   "codemirror_mode": {
    "name": "ipython",
    "version": 3
   },
   "file_extension": ".py",
   "mimetype": "text/x-python",
   "name": "python",
   "nbconvert_exporter": "python",
   "pygments_lexer": "ipython3",
   "version": "3.6.7"
  }
 },
 "nbformat": 4,
 "nbformat_minor": 2
}
