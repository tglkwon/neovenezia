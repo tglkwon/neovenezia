{
 "cells": [
  {
   "cell_type": "code",
   "execution_count": 1,
   "metadata": {},
   "outputs": [
    {
     "name": "stdout",
     "output_type": "stream",
     "text": [
      "INFO:tensorflow:Restoring parameters from ./mnist_softmax.ckpt\n"
     ]
    }
   ],
   "source": [
    "import tensorflow as tf\n",
    "import numpy\n",
    "\n",
    "x = tf.placeholder(tf.float32, [None, 784])\n",
    "W = tf.Variable(tf.zeros([784,10]))\n",
    "b = tf.Variable(tf.zeros([10]))\n",
    "\n",
    "k = tf.matmul(x,W)+b\n",
    "\n",
    "y = tf.nn.softmax(k)\n",
    "\n",
    "sess = tf.Session()\n",
    "\n",
    "saver = tf.train.Saver()\n",
    "saver.restore(sess, './mnist_softmax.ckpt')"
   ]
  },
  {
   "cell_type": "code",
   "execution_count": 2,
   "metadata": {},
   "outputs": [],
   "source": [
    "input_form = \"\"\"\n",
    "<table>\n",
    "<td style=\"border-style: none;\">\n",
    "<div style=\"border: solid 2px #666; width: 143px; height: 144px;\">\n",
    "<canvas width=\"140\" height=\"140\"></canvas>\n",
    "</div></td>\n",
    "<td style=\"border-style: none;\">\n",
    "<button onclick=\"clear_value()\">Clear</button>\n",
    "</td>\n",
    "</table>\n",
    "\"\"\"\n",
    "javascript = \"\"\"\n",
    "<script type=\"text/Javascript\">\n",
    "    var pixels = [];\n",
    "    for (var i = 0; i < 28*28; i++) pixels[i] = 0\n",
    "    var click = 0;\n",
    "\n",
    "    var canvas = document.querySelector(\"canvas\");\n",
    "    canvas.addEventListener(\"mousemove\", function(e){\n",
    "        if (e.buttons == 1) {\n",
    "            click = 1;\n",
    "            canvas.getContext(\"2d\").fillStyle = \"rgb(0,0,0)\";\n",
    "            canvas.getContext(\"2d\").fillRect(e.offsetX, e.offsetY, 8, 8);\n",
    "            x = Math.floor(e.offsetY * 0.2)\n",
    "            y = Math.floor(e.offsetX * 0.2) + 1\n",
    "            for (var dy = 0; dy < 2; dy++){\n",
    "                for (var dx = 0; dx < 2; dx++){\n",
    "                    if ((x + dx < 28) && (y + dy < 28)){\n",
    "                        pixels[(y+dy)+(x+dx)*28] = 1\n",
    "                    }\n",
    "                }\n",
    "            }\n",
    "        } else {\n",
    "            if (click == 1) set_value()\n",
    "            click = 0;\n",
    "        }\n",
    "    });\n",
    "    \n",
    "    function set_value(){\n",
    "        var result = \"\"\n",
    "        for (var i = 0; i < 28*28; i++) result += pixels[i] + \",\"\n",
    "        var kernel = IPython.notebook.kernel;\n",
    "        kernel.execute(\"image = [\" + result + \"]\");\n",
    "    }\n",
    "    \n",
    "    function clear_value(){\n",
    "        canvas.getContext(\"2d\").fillStyle = \"rgb(255,255,255)\";\n",
    "        canvas.getContext(\"2d\").fillRect(0, 0, 140, 140);\n",
    "        for (var i = 0; i < 28*28; i++) pixels[i] = 0\n",
    "    }\n",
    "</script>\n",
    "\"\"\""
   ]
  },
  {
   "cell_type": "code",
   "execution_count": 3,
   "metadata": {},
   "outputs": [
    {
     "data": {
      "text/html": [
       "\n",
       "\n",
       "<table>\n",
       "\n",
       "<td style=\"border-style: none;\">\n",
       "\n",
       "<div style=\"border: solid 2px #666; width: 143px; height: 144px;\">\n",
       "\n",
       "<canvas width=\"140\" height=\"140\"></canvas>\n",
       "\n",
       "</div></td>\n",
       "\n",
       "<td style=\"border-style: none;\">\n",
       "\n",
       "<button onclick=\"clear_value()\">Clear</button>\n",
       "\n",
       "</td>\n",
       "\n",
       "</table>\n",
       "\n",
       "\n",
       "\n",
       "<script type=\"text/Javascript\">\n",
       "\n",
       "    var pixels = [];\n",
       "\n",
       "    for (var i = 0; i < 28*28; i++) pixels[i] = 0\n",
       "\n",
       "    var click = 0;\n",
       "\n",
       "\n",
       "\n",
       "    var canvas = document.querySelector(\"canvas\");\n",
       "\n",
       "    canvas.addEventListener(\"mousemove\", function(e){\n",
       "\n",
       "        if (e.buttons == 1) {\n",
       "\n",
       "            click = 1;\n",
       "\n",
       "            canvas.getContext(\"2d\").fillStyle = \"rgb(0,0,0)\";\n",
       "\n",
       "            canvas.getContext(\"2d\").fillRect(e.offsetX, e.offsetY, 8, 8);\n",
       "\n",
       "            x = Math.floor(e.offsetY * 0.2)\n",
       "\n",
       "            y = Math.floor(e.offsetX * 0.2) + 1\n",
       "\n",
       "            for (var dy = 0; dy < 2; dy++){\n",
       "\n",
       "                for (var dx = 0; dx < 2; dx++){\n",
       "\n",
       "                    if ((x + dx < 28) && (y + dy < 28)){\n",
       "\n",
       "                        pixels[(y+dy)+(x+dx)*28] = 1\n",
       "\n",
       "                    }\n",
       "\n",
       "                }\n",
       "\n",
       "            }\n",
       "\n",
       "        } else {\n",
       "\n",
       "            if (click == 1) set_value()\n",
       "\n",
       "            click = 0;\n",
       "\n",
       "        }\n",
       "\n",
       "    });\n",
       "\n",
       "    \n",
       "\n",
       "    function set_value(){\n",
       "\n",
       "        var result = \"\"\n",
       "\n",
       "        for (var i = 0; i < 28*28; i++) result += pixels[i] + \",\"\n",
       "\n",
       "        var kernel = IPython.notebook.kernel;\n",
       "\n",
       "        kernel.execute(\"image = [\" + result + \"]\");\n",
       "\n",
       "    }\n",
       "\n",
       "    \n",
       "\n",
       "    function clear_value(){\n",
       "\n",
       "        canvas.getContext(\"2d\").fillStyle = \"rgb(255,255,255)\";\n",
       "\n",
       "        canvas.getContext(\"2d\").fillRect(0, 0, 140, 140);\n",
       "\n",
       "        for (var i = 0; i < 28*28; i++) pixels[i] = 0\n",
       "\n",
       "    }\n",
       "\n",
       "</script>\n",
       "\n"
      ],
      "text/plain": [
       "<IPython.core.display.HTML object>"
      ]
     },
     "execution_count": 3,
     "metadata": {},
     "output_type": "execute_result"
    }
   ],
   "source": [
    "from IPython.display import HTML\n",
    "\n",
    "HTML(input_form + javascript)"
   ]
  },
  {
   "cell_type": "code",
   "execution_count": 6,
   "metadata": {},
   "outputs": [
    {
     "data": {
      "image/png": "[encoded data removed]",
      "text/plain": [
       "<Figure size 288x144 with 1 Axes>"
      ]
     },
     "metadata": {
      "needs_background": "light"
     },
     "output_type": "display_data"
    }
   ],
   "source": [
    "import matplotlib.pyplot as plt\n",
    "\n",
    "p_val = sess.run(y, feed_dict={x:[image]})\n",
    "\n",
    "\n",
    "\n",
    "fig = plt.figure(figsize=(4,2))\n",
    "\n",
    "pred = p_val[0]\n",
    "\n",
    "subplot = fig.add_subplot(1,1,1)\n",
    "\n",
    "subplot.set_xticks(range(10))\n",
    "\n",
    "subplot.set_xlim(-0.5,9.5)\n",
    "\n",
    "subplot.set_ylim(0,1)\n",
    "\n",
    "subplot.bar(range(10), pred, align='center')\n",
    "\n",
    "plt.show()"
   ]
  },
  {
   "cell_type": "code",
   "execution_count": null,
   "metadata": {},
   "outputs": [],
   "source": []
  }
 ],
 "metadata": {
  "kernelspec": {
   "display_name": "Python 3",
   "language": "python",
   "name": "python3"
  },
  "language_info": {
   "codemirror_mode": {
    "name": "ipython",
    "version": 3
   },
   "file_extension": ".py",
   "mimetype": "text/x-python",
   "name": "python",
   "nbconvert_exporter": "python",
   "pygments_lexer": "ipython3",
   "version": "3.7.1"
  }
 },
 "nbformat": 4,
 "nbformat_minor": 2
}
