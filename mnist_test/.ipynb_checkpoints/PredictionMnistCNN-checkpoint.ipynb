{
 "cells": [
  {
   "cell_type": "code",
   "execution_count": 12,
   "metadata": {},
   "outputs": [
    {
     "name": "stdout",
     "output_type": "stream",
     "text": [
      "Extracting /mnist/train-images-idx3-ubyte.gz\n",
      "Extracting /mnist/train-labels-idx1-ubyte.gz\n",
      "Extracting /mnist/t10k-images-idx3-ubyte.gz\n",
      "Extracting /mnist/t10k-labels-idx1-ubyte.gz\n",
      "[0.1 0.1 0.1 0.1 0.1 0.1 0.1 0.1 0.1 0.1]\n"
     ]
    }
   ],
   "source": [
    "import tensorflow as tf\n",
    "import numpy as np\n",
    "import matplotlib.pyplot as plt\n",
    "from tensorflow.examples.tutorials.mnist import input_data\n",
    "import datetime as datetime\n",
    "\n",
    "dt = datetime.datetime.now()\n",
    "np.random.seed(dt.microsecond)\n",
    "tf.set_random_seed(dt.microsecond)\n",
    "\n",
    "mnist = input_data.read_data_sets(\"/mnist/\", one_hot=True)\n",
    "num_filters1 = 32\n",
    "\n",
    "x = tf.placeholder(tf.float32, [None, 784])\n",
    "x_image = tf.reshape(x, [-1, 28, 28, 1])\n",
    "\n",
    "W_conv1 = tf.Variable(tf.truncated_normal([5,5,1,num_filters1], stddev=0.1))\n",
    "h_conv1 = tf.nn.conv2d(x_image, W_conv1, strides=[1,1,1,1], padding='SAME')\n",
    "\n",
    "b_conv1 = tf.Variable(tf.constant(0.1, shape=[num_filters1]))\n",
    "h_conv1_cutoff = tf.nn.relu(h_conv1+b_conv1)\n",
    "\n",
    "h_pool1 = tf.nn.max_pool(h_conv1_cutoff, ksize=[1,2,2,1], strides=[1,2,2,1], padding='SAME')\n",
    "\n",
    "\n",
    "num_filters2 = 64\n",
    "\n",
    "\n",
    "W_conv2 = tf.Variable(tf.truncated_normal([5,5,num_filters1, num_filters2], stddev=0.1))\n",
    "h_conv2 = tf.nn.conv2d(h_pool1, W_conv2, strides=[1,1,1,1], padding='SAME')\n",
    "\n",
    "b_conv2 = tf.Variable(tf.constant(0.1, shape=[num_filters2]))\n",
    "h_conv2_cutoff = tf.nn.relu(h_conv2+b_conv2)\n",
    "\n",
    "h_pool2 = tf.nn.max_pool(h_conv2_cutoff, ksize=[1,2,2,1], strides=[1,2,2,1], padding='SAME')\n",
    "\n",
    "num_units1 = 7*7*num_filters2\n",
    "num_units2 = 1024\n",
    "h_pool2_flat = tf.reshape(h_pool2, [-1, num_units1])\n",
    "\n",
    "\n",
    "w2 = tf.Variable(tf.truncated_normal([num_units1,num_units2]))\n",
    "b2 = tf.Variable(tf.constant(0.1, shape=[num_units2]))\n",
    "hidden2 = tf.nn.relu(tf.matmul(h_pool2_flat, w2)+b2)\n",
    "\n",
    "keep_prob = tf.placeholder(tf.float32)\n",
    "hidden2_drop = tf.nn.dropout(hidden2, keep_prob)\n",
    "\n",
    "w0 = tf.Variable(tf.zeros([num_units2, 10]))\n",
    "b0 = tf.Variable(tf.zeros([10]))\n",
    "k = tf.matmul(hidden2_drop, w0)+b0\n",
    "p = tf.nn.softmax(k)\n",
    "\n",
    "\n",
    "from PIL import Image\n",
    "\n",
    "im=Image.open(\"../MNIST_data/handWriteSample.bmp\")\n",
    "img = np.array(im.resize((28, 28), Image.ANTIALIAS).convert(\"L\"))\n",
    "data = img.reshape([1, 784])\n",
    "\n",
    "#print(img)\n",
    "\n",
    "\n",
    "\n",
    "sess = tf.InteractiveSession()\n",
    "sess.run(tf.global_variables_initializer())\n",
    "saver = tf.train.Saver()\n",
    "saver.restore(sess, './minist_CNN.ckpt')\n",
    "\n",
    "prediction = sess.run(p, feed_dict={x:data, keep_prob:0.8})\n",
    "#loss_val, acc_val = sess.run([loss, accuracy], feed_dict={x:mnist.test.images[start:end], y_:mnist.test.labels[start:end], keep_prob:1.0})\n",
    "print(prediction[0])            \n",
    "\n",
    "\n",
    "sess.close()\n"
   ]
  },
  {
   "cell_type": "code",
   "execution_count": null,
   "metadata": {},
   "outputs": [],
   "source": []
  }
 ],
 "metadata": {
  "kernelspec": {
   "display_name": "Python 3",
   "language": "python",
   "name": "python3"
  },
  "language_info": {
   "codemirror_mode": {
    "name": "ipython",
    "version": 3
   },
   "file_extension": ".py",
   "mimetype": "text/x-python",
   "name": "python",
   "nbconvert_exporter": "python",
   "pygments_lexer": "ipython3",
   "version": "3.6.6"
  }
 },
 "nbformat": 4,
 "nbformat_minor": 2
}
