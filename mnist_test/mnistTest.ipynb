{
 "cells": [
  {
   "cell_type": "code",
   "execution_count": 2,
   "metadata": {
    "scrolled": true
   },
   "outputs": [
    {
     "name": "stdout",
     "output_type": "stream",
     "text": [
      "Extracting ../../Data/MNIST_data/train-images-idx3-ubyte.gz\n",
      "Extracting ../../Data/MNIST_data/train-labels-idx1-ubyte.gz\n",
      "Extracting ../../Data/MNIST_data/t10k-images-idx3-ubyte.gz\n",
      "Extracting ../../Data/MNIST_data/t10k-labels-idx1-ubyte.gz\n"
     ]
    }
   ],
   "source": [
    "import tensorflow as tf\n",
    "\n",
    "from tensorflow.examples.tutorials.mnist import input_data\n",
    "\n",
    "mnist = input_data.read_data_sets('../../Data/MNIST_data/', one_hot=True)"
   ]
  },
  {
   "cell_type": "code",
   "execution_count": 3,
   "metadata": {},
   "outputs": [],
   "source": [
    "x = tf.placeholder(tf.float32, [None, 784])\n",
    "W = tf.Variable(tf.zeros([784,10]))\n",
    "b = tf.Variable(tf.zeros([10]))\n",
    "\n",
    "k = tf.matmul(x,W)+b\n",
    "\n",
    "y = tf.nn.softmax(k)\n",
    "#nn neural network"
   ]
  },
  {
   "cell_type": "code",
   "execution_count": 4,
   "metadata": {},
   "outputs": [],
   "source": [
    "y_ = tf.placeholder(tf.float32, [None, 10])\n",
    "cost = tf.reduce_mean(tf.nn.softmax_cross_entropy_with_logits_v2(logits=k, labels=y_))\n",
    "\n",
    "train_steps = {}\n",
    "for i in range(1,10):\n",
    "    learning_rate = round(0.1*i, 1)\n",
    "    train_step = tf.train.GradientDescentOptimizer(learning_rate).minimize(cost)\n",
    "    train_steps[learning_rate] = train_step"
   ]
  },
  {
   "cell_type": "code",
   "execution_count": 5,
   "metadata": {},
   "outputs": [
    {
     "name": "stdout",
     "output_type": "stream",
     "text": [
      "lr:  0.1 accuracy  0.908\n",
      "lr:  0.2 accuracy  0.9142\n",
      "lr:  0.3 accuracy  0.9163\n",
      "lr:  0.4 accuracy  0.9173\n",
      "lr:  0.5 accuracy  0.917\n",
      "lr:  0.6 accuracy  0.912\n",
      "lr:  0.7 accuracy  0.9151\n",
      "lr:  0.8 accuracy  0.9136\n",
      "lr:  0.9 accuracy  0.9178\n"
     ]
    },
    {
     "data": {
      "text/plain": [
       "'./mnist_softmax.ckpt'"
      ]
     },
     "execution_count": 5,
     "metadata": {},
     "output_type": "execute_result"
    }
   ],
   "source": [
    "for lr, train_step in train_steps.items():\n",
    "    session = tf.Session()\n",
    "    ini = tf.global_variables_initializer()\n",
    "    session.run(ini)\n",
    "    \n",
    "    for _ in range(1000):\n",
    "        x_train, y_train = mnist.train.next_batch(100)\n",
    "        session.run(train_step, feed_dict={x: x_train, y_: y_train})\n",
    "\n",
    "    correct_prediction = tf.equal(tf.argmax(y, 1), tf.argmax(y_, 1))\n",
    "    accuracy = tf.reduce_mean(tf.cast(correct_prediction, tf.float32))\n",
    "    \n",
    "    print('lr: ', lr, 'accuracy ',session.run(accuracy, feed_dict={x: mnist.test.images, y_: mnist.test.labels}))\n",
    "\n",
    "saver = tf.train.Saver()\n",
    "saver.save(session, './mnist_softmax.ckpt')"
   ]
  }
 ],
 "metadata": {
  "kernelspec": {
   "display_name": "Python 3",
   "language": "python",
   "name": "python3"
  },
  "language_info": {
   "codemirror_mode": {
    "name": "ipython",
    "version": 3
   },
   "file_extension": ".py",
   "mimetype": "text/x-python",
   "name": "python",
   "nbconvert_exporter": "python",
   "pygments_lexer": "ipython3",
   "version": "3.6.7"
  }
 },
 "nbformat": 4,
 "nbformat_minor": 2
}
