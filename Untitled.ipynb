{
 "cells": [
  {
   "cell_type": "code",
   "execution_count": 10,
   "metadata": {},
   "outputs": [
    {
     "name": "stdout",
     "output_type": "stream",
     "text": [
      "13\n",
      "12\n",
      "11\n",
      "02\n",
      "02\n",
      "01\n",
      "01\n",
      "02\n",
      "04\n",
      "03\n",
      "02\n",
      "02\n",
      "01\n",
      "01\n",
      "08\n",
      "02\n",
      "12\n"
     ]
    }
   ],
   "source": [
    "#주민등록번호 검색\n",
    "import re\n",
    "\n",
    "data = \"\"\n",
    "with open('input.txt', \"r\") as f:\n",
    "    data = f.read()\n",
    "\n",
    "#print(data)\n",
    "dataLicense = re.findall('([0-9]{6} - [0-9]{7})', data)\n",
    "#print(dataLicense)\n",
    "for nums in dataLicense:\n",
    "    print(nums[2:4])\n",
    "    "
   ]
  }
 ],
 "metadata": {
  "kernelspec": {
   "display_name": "Python 3",
   "language": "python",
   "name": "python3"
  },
  "language_info": {
   "codemirror_mode": {
    "name": "ipython",
    "version": 3
   },
   "file_extension": ".py",
   "mimetype": "text/x-python",
   "name": "python",
   "nbconvert_exporter": "python",
   "pygments_lexer": "ipython3",
   "version": "3.7.0"
  }
 },
 "nbformat": 4,
 "nbformat_minor": 2
}
